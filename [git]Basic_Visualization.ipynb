{
 "cells": [
  {
   "cell_type": "code",
   "execution_count": 75,
   "metadata": {},
   "outputs": [],
   "source": [
    "import matplotlib as mpl\n",
    "import pandas as pd\n",
    "import matplotlib.pyplot as plt\n",
    "import seaborn as sns\n",
    "\n",
    "from inspect import signature\n",
    "from pprint import pprint as pp"
   ]
  },
  {
   "cell_type": "code",
   "execution_count": 76,
   "metadata": {},
   "outputs": [
    {
     "name": "stdout",
     "output_type": "stream",
     "text": [
      "\u001b[1;31mE: \u001b[0mCould not open lock file /var/lib/dpkg/lock-frontend - open (13: Permission denied)\u001b[0m\r\n",
      "\u001b[1;31mE: \u001b[0mUnable to acquire the dpkg frontend lock (/var/lib/dpkg/lock-frontend), are you root?\u001b[0m\r\n"
     ]
    }
   ],
   "source": [
    "import warnings\n",
    "warnings.filterwarnings(action = 'ignore')\n",
    "\n",
    "%config InlineBackend.figure_format = 'retina'\n",
    "\n",
    "!apt -qq -y install fonts-nanum\n",
    "\n",
    "import matplotlib.font_manager as fm\n",
    "fontpath = '/usr/share/fonts/truetype/nanum/NanumBarunGothic.ttf'\n",
    "font = fm.FontProperties(fname=fontpath, size = 9)\n",
    "plt.rc('font', family = 'NanumBarunGothic')\n",
    "mpl.font_manager._rebuild()"
   ]
  },
  {
   "cell_type": "code",
   "execution_count": 146,
   "metadata": {},
   "outputs": [
    {
     "name": "stdout",
     "output_type": "stream",
     "text": [
      "<class 'pandas.core.frame.DataFrame'>\n",
      "RangeIndex: 2884943 entries, 0 to 2884942\n",
      "Data columns (total 4 columns):\n",
      " #   Column      Dtype \n",
      "---  ------      ----- \n",
      " 0   CLNT_ID     int64 \n",
      " 1   SESS_ID     int64 \n",
      " 2   KWD_NM      object\n",
      " 3   SEARCH_CNT  int64 \n",
      "dtypes: int64(3), object(1)\n",
      "memory usage: 88.0+ MB\n",
      "None\n",
      "'=================================================='\n",
      "(2884943, 4)\n",
      "'=================================================='\n"
     ]
    }
   ],
   "source": [
    "df_search1 = pd.read_csv('../Project_data/data/Search1.csv')\n",
    "df_segs = pd.read_csv('../Project_data/data/segs.csv')\n",
    "df_customer = pd.read_csv('../Project_data/data/Custom.csv')"
   ]
  },
  {
   "cell_type": "code",
   "execution_count": 147,
   "metadata": {},
   "outputs": [
    {
     "data": {
      "text/html": [
       "<div>\n",
       "<style scoped>\n",
       "    .dataframe tbody tr th:only-of-type {\n",
       "        vertical-align: middle;\n",
       "    }\n",
       "\n",
       "    .dataframe tbody tr th {\n",
       "        vertical-align: top;\n",
       "    }\n",
       "\n",
       "    .dataframe thead th {\n",
       "        text-align: right;\n",
       "    }\n",
       "</style>\n",
       "<table border=\"1\" class=\"dataframe\">\n",
       "  <thead>\n",
       "    <tr style=\"text-align: right;\">\n",
       "      <th></th>\n",
       "      <th>CLNT_ID</th>\n",
       "      <th>SESS_ID</th>\n",
       "      <th>KWD_NM</th>\n",
       "      <th>SEARCH_CNT</th>\n",
       "    </tr>\n",
       "  </thead>\n",
       "  <tbody>\n",
       "    <tr>\n",
       "      <th>0</th>\n",
       "      <td>5607714</td>\n",
       "      <td>7112876</td>\n",
       "      <td>빌리프 아이크림</td>\n",
       "      <td>6</td>\n",
       "    </tr>\n",
       "    <tr>\n",
       "      <th>1</th>\n",
       "      <td>5607714</td>\n",
       "      <td>4090791</td>\n",
       "      <td>프리메라 마스크팩</td>\n",
       "      <td>3</td>\n",
       "    </tr>\n",
       "    <tr>\n",
       "      <th>2</th>\n",
       "      <td>5607714</td>\n",
       "      <td>4090791</td>\n",
       "      <td>여성청결제</td>\n",
       "      <td>1</td>\n",
       "    </tr>\n",
       "    <tr>\n",
       "      <th>3</th>\n",
       "      <td>5612428</td>\n",
       "      <td>1876482</td>\n",
       "      <td>명품가방</td>\n",
       "      <td>1</td>\n",
       "    </tr>\n",
       "    <tr>\n",
       "      <th>4</th>\n",
       "      <td>5612428</td>\n",
       "      <td>658123</td>\n",
       "      <td>콩순이 아이스크림</td>\n",
       "      <td>1</td>\n",
       "    </tr>\n",
       "  </tbody>\n",
       "</table>\n",
       "</div>"
      ],
      "text/plain": [
       "   CLNT_ID  SESS_ID     KWD_NM  SEARCH_CNT\n",
       "0  5607714  7112876   빌리프 아이크림           6\n",
       "1  5607714  4090791  프리메라 마스크팩           3\n",
       "2  5607714  4090791      여성청결제           1\n",
       "3  5612428  1876482       명품가방           1\n",
       "4  5612428   658123  콩순이 아이스크림           1"
      ]
     },
     "execution_count": 147,
     "metadata": {},
     "output_type": "execute_result"
    }
   ],
   "source": [
    "#Search1 DATAFRAME head 확인\n",
    "df_search1.head()"
   ]
  },
  {
   "cell_type": "code",
   "execution_count": 81,
   "metadata": {},
   "outputs": [
    {
     "data": {
      "text/html": [
       "<div>\n",
       "<style scoped>\n",
       "    .dataframe tbody tr th:only-of-type {\n",
       "        vertical-align: middle;\n",
       "    }\n",
       "\n",
       "    .dataframe tbody tr th {\n",
       "        vertical-align: top;\n",
       "    }\n",
       "\n",
       "    .dataframe thead th {\n",
       "        text-align: right;\n",
       "    }\n",
       "</style>\n",
       "<table border=\"1\" class=\"dataframe\">\n",
       "  <thead>\n",
       "    <tr style=\"text-align: right;\">\n",
       "      <th></th>\n",
       "      <th>CLNT_ID</th>\n",
       "      <th>PD_BUY_TOT</th>\n",
       "      <th>BUY_COUNT</th>\n",
       "      <th>CUS_SEG</th>\n",
       "    </tr>\n",
       "  </thead>\n",
       "  <tbody>\n",
       "    <tr>\n",
       "      <th>0</th>\n",
       "      <td>4540824</td>\n",
       "      <td>2062130</td>\n",
       "      <td>79</td>\n",
       "      <td>2</td>\n",
       "    </tr>\n",
       "    <tr>\n",
       "      <th>1</th>\n",
       "      <td>5091280</td>\n",
       "      <td>18639400</td>\n",
       "      <td>378</td>\n",
       "      <td>2</td>\n",
       "    </tr>\n",
       "    <tr>\n",
       "      <th>2</th>\n",
       "      <td>225269</td>\n",
       "      <td>4100</td>\n",
       "      <td>3</td>\n",
       "      <td>3</td>\n",
       "    </tr>\n",
       "    <tr>\n",
       "      <th>3</th>\n",
       "      <td>241426</td>\n",
       "      <td>37300</td>\n",
       "      <td>3</td>\n",
       "      <td>3</td>\n",
       "    </tr>\n",
       "    <tr>\n",
       "      <th>4</th>\n",
       "      <td>1063284</td>\n",
       "      <td>186600</td>\n",
       "      <td>7</td>\n",
       "      <td>2</td>\n",
       "    </tr>\n",
       "  </tbody>\n",
       "</table>\n",
       "</div>"
      ],
      "text/plain": [
       "   CLNT_ID  PD_BUY_TOT  BUY_COUNT  CUS_SEG\n",
       "0  4540824     2062130         79        2\n",
       "1  5091280    18639400        378        2\n",
       "2   225269        4100          3        3\n",
       "3   241426       37300          3        3\n",
       "4  1063284      186600          7        2"
      ]
     },
     "execution_count": 81,
     "metadata": {},
     "output_type": "execute_result"
    }
   ],
   "source": [
    "df_segs.head()"
   ]
  },
  {
   "cell_type": "code",
   "execution_count": 137,
   "metadata": {
    "scrolled": true
   },
   "outputs": [
    {
     "data": {
      "text/html": [
       "<div>\n",
       "<style scoped>\n",
       "    .dataframe tbody tr th:only-of-type {\n",
       "        vertical-align: middle;\n",
       "    }\n",
       "\n",
       "    .dataframe tbody tr th {\n",
       "        vertical-align: top;\n",
       "    }\n",
       "\n",
       "    .dataframe thead th {\n",
       "        text-align: right;\n",
       "    }\n",
       "</style>\n",
       "<table border=\"1\" class=\"dataframe\">\n",
       "  <thead>\n",
       "    <tr style=\"text-align: right;\">\n",
       "      <th></th>\n",
       "      <th>CLNT_ID</th>\n",
       "      <th>CLNT_GENDER_x</th>\n",
       "      <th>CLNT_AGE_x</th>\n",
       "      <th>CLNT_GENDER_y</th>\n",
       "      <th>CLNT_AGE_y</th>\n",
       "      <th>PD_BUY_TOT</th>\n",
       "      <th>BUY_COUNT</th>\n",
       "      <th>CUS_SEG</th>\n",
       "    </tr>\n",
       "  </thead>\n",
       "  <tbody>\n",
       "    <tr>\n",
       "      <th>0</th>\n",
       "      <td>4830726</td>\n",
       "      <td>F</td>\n",
       "      <td>30</td>\n",
       "      <td>F</td>\n",
       "      <td>30</td>\n",
       "      <td>260000</td>\n",
       "      <td>2</td>\n",
       "      <td>1</td>\n",
       "    </tr>\n",
       "    <tr>\n",
       "      <th>1</th>\n",
       "      <td>4830874</td>\n",
       "      <td>F</td>\n",
       "      <td>40</td>\n",
       "      <td>F</td>\n",
       "      <td>40</td>\n",
       "      <td>276000</td>\n",
       "      <td>4</td>\n",
       "      <td>2</td>\n",
       "    </tr>\n",
       "    <tr>\n",
       "      <th>2</th>\n",
       "      <td>4830975</td>\n",
       "      <td>F</td>\n",
       "      <td>30</td>\n",
       "      <td>F</td>\n",
       "      <td>30</td>\n",
       "      <td>104300</td>\n",
       "      <td>2</td>\n",
       "      <td>3</td>\n",
       "    </tr>\n",
       "    <tr>\n",
       "      <th>3</th>\n",
       "      <td>4831275</td>\n",
       "      <td>F</td>\n",
       "      <td>30</td>\n",
       "      <td>F</td>\n",
       "      <td>30</td>\n",
       "      <td>71400</td>\n",
       "      <td>2</td>\n",
       "      <td>3</td>\n",
       "    </tr>\n",
       "    <tr>\n",
       "      <th>4</th>\n",
       "      <td>4825325</td>\n",
       "      <td>F</td>\n",
       "      <td>30</td>\n",
       "      <td>F</td>\n",
       "      <td>30</td>\n",
       "      <td>529700</td>\n",
       "      <td>11</td>\n",
       "      <td>2</td>\n",
       "    </tr>\n",
       "    <tr>\n",
       "      <th>...</th>\n",
       "      <td>...</td>\n",
       "      <td>...</td>\n",
       "      <td>...</td>\n",
       "      <td>...</td>\n",
       "      <td>...</td>\n",
       "      <td>...</td>\n",
       "      <td>...</td>\n",
       "      <td>...</td>\n",
       "    </tr>\n",
       "    <tr>\n",
       "      <th>671656</th>\n",
       "      <td>3725302</td>\n",
       "      <td>F</td>\n",
       "      <td>40</td>\n",
       "      <td>F</td>\n",
       "      <td>40</td>\n",
       "      <td>29000</td>\n",
       "      <td>1</td>\n",
       "      <td>3</td>\n",
       "    </tr>\n",
       "    <tr>\n",
       "      <th>671657</th>\n",
       "      <td>3725462</td>\n",
       "      <td>M</td>\n",
       "      <td>40</td>\n",
       "      <td>M</td>\n",
       "      <td>40</td>\n",
       "      <td>35700</td>\n",
       "      <td>2</td>\n",
       "      <td>3</td>\n",
       "    </tr>\n",
       "    <tr>\n",
       "      <th>671658</th>\n",
       "      <td>3725818</td>\n",
       "      <td>F</td>\n",
       "      <td>30</td>\n",
       "      <td>F</td>\n",
       "      <td>30</td>\n",
       "      <td>143400</td>\n",
       "      <td>2</td>\n",
       "      <td>3</td>\n",
       "    </tr>\n",
       "    <tr>\n",
       "      <th>671659</th>\n",
       "      <td>3661812</td>\n",
       "      <td>F</td>\n",
       "      <td>30</td>\n",
       "      <td>F</td>\n",
       "      <td>30</td>\n",
       "      <td>15600</td>\n",
       "      <td>4</td>\n",
       "      <td>4</td>\n",
       "    </tr>\n",
       "    <tr>\n",
       "      <th>671660</th>\n",
       "      <td>3661917</td>\n",
       "      <td>M</td>\n",
       "      <td>40</td>\n",
       "      <td>M</td>\n",
       "      <td>40</td>\n",
       "      <td>303400</td>\n",
       "      <td>6</td>\n",
       "      <td>2</td>\n",
       "    </tr>\n",
       "  </tbody>\n",
       "</table>\n",
       "<p>671661 rows × 8 columns</p>\n",
       "</div>"
      ],
      "text/plain": [
       "        CLNT_ID CLNT_GENDER_x  CLNT_AGE_x CLNT_GENDER_y  CLNT_AGE_y  \\\n",
       "0       4830726             F          30             F          30   \n",
       "1       4830874             F          40             F          40   \n",
       "2       4830975             F          30             F          30   \n",
       "3       4831275             F          30             F          30   \n",
       "4       4825325             F          30             F          30   \n",
       "...         ...           ...         ...           ...         ...   \n",
       "671656  3725302             F          40             F          40   \n",
       "671657  3725462             M          40             M          40   \n",
       "671658  3725818             F          30             F          30   \n",
       "671659  3661812             F          30             F          30   \n",
       "671660  3661917             M          40             M          40   \n",
       "\n",
       "        PD_BUY_TOT  BUY_COUNT  CUS_SEG  \n",
       "0           260000          2        1  \n",
       "1           276000          4        2  \n",
       "2           104300          2        3  \n",
       "3            71400          2        3  \n",
       "4           529700         11        2  \n",
       "...            ...        ...      ...  \n",
       "671656       29000          1        3  \n",
       "671657       35700          2        3  \n",
       "671658      143400          2        3  \n",
       "671659       15600          4        4  \n",
       "671660      303400          6        2  \n",
       "\n",
       "[671661 rows x 8 columns]"
      ]
     },
     "execution_count": 137,
     "metadata": {},
     "output_type": "execute_result"
    }
   ],
   "source": [
    "df_segs = pd.merge(left = df_customer, right = df_segs, \n",
    "                   how = 'inner', on = 'CLNT_ID')\n",
    "df_segs"
   ]
  },
  {
   "cell_type": "code",
   "execution_count": 100,
   "metadata": {},
   "outputs": [],
   "source": [
    "df_search_seg = pd.merge(left = df_segs, right = df_search_groupby, \n",
    "                         how = 'inner', on='CLNT_ID')"
   ]
  },
  {
   "cell_type": "code",
   "execution_count": 102,
   "metadata": {
    "scrolled": true
   },
   "outputs": [
    {
     "data": {
      "text/html": [
       "<div>\n",
       "<style scoped>\n",
       "    .dataframe tbody tr th:only-of-type {\n",
       "        vertical-align: middle;\n",
       "    }\n",
       "\n",
       "    .dataframe tbody tr th {\n",
       "        vertical-align: top;\n",
       "    }\n",
       "\n",
       "    .dataframe thead th {\n",
       "        text-align: right;\n",
       "    }\n",
       "</style>\n",
       "<table border=\"1\" class=\"dataframe\">\n",
       "  <thead>\n",
       "    <tr style=\"text-align: right;\">\n",
       "      <th></th>\n",
       "      <th>CLNT_ID</th>\n",
       "      <th>CLNT_GENDER</th>\n",
       "      <th>CLNT_AGE</th>\n",
       "      <th>PD_BUY_TOT</th>\n",
       "      <th>BUY_COUNT</th>\n",
       "      <th>CUS_SEG</th>\n",
       "      <th>SEARCH_CNT</th>\n",
       "    </tr>\n",
       "  </thead>\n",
       "  <tbody>\n",
       "    <tr>\n",
       "      <th>0</th>\n",
       "      <td>4830726</td>\n",
       "      <td>F</td>\n",
       "      <td>30</td>\n",
       "      <td>260000</td>\n",
       "      <td>2</td>\n",
       "      <td>1</td>\n",
       "      <td>4</td>\n",
       "    </tr>\n",
       "    <tr>\n",
       "      <th>1</th>\n",
       "      <td>4825325</td>\n",
       "      <td>F</td>\n",
       "      <td>30</td>\n",
       "      <td>529700</td>\n",
       "      <td>11</td>\n",
       "      <td>2</td>\n",
       "      <td>26</td>\n",
       "    </tr>\n",
       "    <tr>\n",
       "      <th>2</th>\n",
       "      <td>4825382</td>\n",
       "      <td>F</td>\n",
       "      <td>40</td>\n",
       "      <td>101900</td>\n",
       "      <td>2</td>\n",
       "      <td>3</td>\n",
       "      <td>1</td>\n",
       "    </tr>\n",
       "    <tr>\n",
       "      <th>3</th>\n",
       "      <td>4825797</td>\n",
       "      <td>F</td>\n",
       "      <td>40</td>\n",
       "      <td>111500</td>\n",
       "      <td>3</td>\n",
       "      <td>3</td>\n",
       "      <td>4</td>\n",
       "    </tr>\n",
       "    <tr>\n",
       "      <th>4</th>\n",
       "      <td>4825908</td>\n",
       "      <td>F</td>\n",
       "      <td>30</td>\n",
       "      <td>706100</td>\n",
       "      <td>18</td>\n",
       "      <td>2</td>\n",
       "      <td>5</td>\n",
       "    </tr>\n",
       "    <tr>\n",
       "      <th>...</th>\n",
       "      <td>...</td>\n",
       "      <td>...</td>\n",
       "      <td>...</td>\n",
       "      <td>...</td>\n",
       "      <td>...</td>\n",
       "      <td>...</td>\n",
       "      <td>...</td>\n",
       "    </tr>\n",
       "    <tr>\n",
       "      <th>375853</th>\n",
       "      <td>3720346</td>\n",
       "      <td>F</td>\n",
       "      <td>30</td>\n",
       "      <td>113000</td>\n",
       "      <td>2</td>\n",
       "      <td>3</td>\n",
       "      <td>2</td>\n",
       "    </tr>\n",
       "    <tr>\n",
       "      <th>375854</th>\n",
       "      <td>3720442</td>\n",
       "      <td>F</td>\n",
       "      <td>20</td>\n",
       "      <td>101700</td>\n",
       "      <td>7</td>\n",
       "      <td>4</td>\n",
       "      <td>2</td>\n",
       "    </tr>\n",
       "    <tr>\n",
       "      <th>375855</th>\n",
       "      <td>3723092</td>\n",
       "      <td>F</td>\n",
       "      <td>30</td>\n",
       "      <td>471300</td>\n",
       "      <td>6</td>\n",
       "      <td>2</td>\n",
       "      <td>20</td>\n",
       "    </tr>\n",
       "    <tr>\n",
       "      <th>375856</th>\n",
       "      <td>3723318</td>\n",
       "      <td>F</td>\n",
       "      <td>40</td>\n",
       "      <td>70400</td>\n",
       "      <td>4</td>\n",
       "      <td>4</td>\n",
       "      <td>1</td>\n",
       "    </tr>\n",
       "    <tr>\n",
       "      <th>375857</th>\n",
       "      <td>3661917</td>\n",
       "      <td>M</td>\n",
       "      <td>40</td>\n",
       "      <td>303400</td>\n",
       "      <td>6</td>\n",
       "      <td>2</td>\n",
       "      <td>2</td>\n",
       "    </tr>\n",
       "  </tbody>\n",
       "</table>\n",
       "<p>375858 rows × 7 columns</p>\n",
       "</div>"
      ],
      "text/plain": [
       "        CLNT_ID CLNT_GENDER  CLNT_AGE  PD_BUY_TOT  BUY_COUNT  CUS_SEG  \\\n",
       "0       4830726           F        30      260000          2        1   \n",
       "1       4825325           F        30      529700         11        2   \n",
       "2       4825382           F        40      101900          2        3   \n",
       "3       4825797           F        40      111500          3        3   \n",
       "4       4825908           F        30      706100         18        2   \n",
       "...         ...         ...       ...         ...        ...      ...   \n",
       "375853  3720346           F        30      113000          2        3   \n",
       "375854  3720442           F        20      101700          7        4   \n",
       "375855  3723092           F        30      471300          6        2   \n",
       "375856  3723318           F        40       70400          4        4   \n",
       "375857  3661917           M        40      303400          6        2   \n",
       "\n",
       "        SEARCH_CNT  \n",
       "0                4  \n",
       "1               26  \n",
       "2                1  \n",
       "3                4  \n",
       "4                5  \n",
       "...            ...  \n",
       "375853           2  \n",
       "375854           2  \n",
       "375855          20  \n",
       "375856           1  \n",
       "375857           2  \n",
       "\n",
       "[375858 rows x 7 columns]"
      ]
     },
     "execution_count": 102,
     "metadata": {},
     "output_type": "execute_result"
    }
   ],
   "source": [
    "df_search_seg"
   ]
  },
  {
   "cell_type": "code",
   "execution_count": 103,
   "metadata": {},
   "outputs": [
    {
     "data": {
      "text/plain": [
       "98"
      ]
     },
     "execution_count": 103,
     "metadata": {},
     "output_type": "execute_result"
    }
   ],
   "source": [
    "#고객중 가장 높은 검색 횟수: 98\n",
    "\n",
    "df_search1.SEARCH_CNT.max()"
   ]
  },
  {
   "cell_type": "code",
   "execution_count": 104,
   "metadata": {},
   "outputs": [
    {
     "data": {
      "text/plain": [
       "1.9085479331827353"
      ]
     },
     "execution_count": 104,
     "metadata": {},
     "output_type": "execute_result"
    }
   ],
   "source": [
    "#고객들의 평균 검색 횟수: 1회\n",
    "\n",
    "df_search1.SEARCH_CNT.mean()"
   ]
  },
  {
   "cell_type": "code",
   "execution_count": 105,
   "metadata": {},
   "outputs": [
    {
     "data": {
      "text/plain": [
       "511477"
      ]
     },
     "execution_count": 105,
     "metadata": {},
     "output_type": "execute_result"
    }
   ],
   "source": [
    "#검색한 고객 수: 511477\n",
    "\n",
    "df_search1.CLNT_ID.nunique()"
   ]
  },
  {
   "cell_type": "code",
   "execution_count": 106,
   "metadata": {},
   "outputs": [
    {
     "data": {
      "text/plain": [
       "1160589"
      ]
     },
     "execution_count": 106,
     "metadata": {},
     "output_type": "execute_result"
    }
   ],
   "source": [
    "#재방문 고객: 1,160,589개\n",
    "\n",
    "df_search1.SESS_ID.nunique()"
   ]
  },
  {
   "cell_type": "markdown",
   "metadata": {},
   "source": [
    "## 고객 등급 별 '검색량' 시각화"
   ]
  },
  {
   "cell_type": "code",
   "execution_count": 109,
   "metadata": {},
   "outputs": [],
   "source": [
    "#DATAFRAME 불린 추출로 그룹 나누기\n",
    "\n",
    "dataset1 = df_search_seg[df_search_seg['CUS_SEG'] == 1] \n",
    "dataset2 = df_search_seg[df_search_seg['CUS_SEG'] == 2] \n",
    "dataset3 = df_search_seg[df_search_seg['CUS_SEG'] == 3] \n",
    "dataset4 = df_search_seg[df_search_seg['CUS_SEG'] == 4] "
   ]
  },
  {
   "cell_type": "code",
   "execution_count": 110,
   "metadata": {
    "scrolled": true
   },
   "outputs": [
    {
     "name": "stdout",
     "output_type": "stream",
     "text": [
      "<class 'pandas.core.frame.DataFrame'>\n",
      "Int64Index: 48364 entries, 0 to 375849\n",
      "Data columns (total 7 columns):\n",
      " #   Column       Non-Null Count  Dtype \n",
      "---  ------       --------------  ----- \n",
      " 0   CLNT_ID      48364 non-null  int64 \n",
      " 1   CLNT_GENDER  48364 non-null  object\n",
      " 2   CLNT_AGE     48364 non-null  int64 \n",
      " 3   PD_BUY_TOT   48364 non-null  int64 \n",
      " 4   BUY_COUNT    48364 non-null  int64 \n",
      " 5   CUS_SEG      48364 non-null  int64 \n",
      " 6   SEARCH_CNT   48364 non-null  int64 \n",
      "dtypes: int64(6), object(1)\n",
      "memory usage: 3.0+ MB\n"
     ]
    }
   ],
   "source": [
    "dataset1.info()"
   ]
  },
  {
   "cell_type": "code",
   "execution_count": 111,
   "metadata": {},
   "outputs": [
    {
     "name": "stdout",
     "output_type": "stream",
     "text": [
      "<class 'pandas.core.frame.DataFrame'>\n",
      "Int64Index: 165772 entries, 1 to 375857\n",
      "Data columns (total 7 columns):\n",
      " #   Column       Non-Null Count   Dtype \n",
      "---  ------       --------------   ----- \n",
      " 0   CLNT_ID      165772 non-null  int64 \n",
      " 1   CLNT_GENDER  165772 non-null  object\n",
      " 2   CLNT_AGE     165772 non-null  int64 \n",
      " 3   PD_BUY_TOT   165772 non-null  int64 \n",
      " 4   BUY_COUNT    165772 non-null  int64 \n",
      " 5   CUS_SEG      165772 non-null  int64 \n",
      " 6   SEARCH_CNT   165772 non-null  int64 \n",
      "dtypes: int64(6), object(1)\n",
      "memory usage: 10.1+ MB\n"
     ]
    }
   ],
   "source": [
    "dataset2.info()"
   ]
  },
  {
   "cell_type": "code",
   "execution_count": 112,
   "metadata": {},
   "outputs": [
    {
     "name": "stdout",
     "output_type": "stream",
     "text": [
      "<class 'pandas.core.frame.DataFrame'>\n",
      "Int64Index: 117643 entries, 2 to 375853\n",
      "Data columns (total 7 columns):\n",
      " #   Column       Non-Null Count   Dtype \n",
      "---  ------       --------------   ----- \n",
      " 0   CLNT_ID      117643 non-null  int64 \n",
      " 1   CLNT_GENDER  117643 non-null  object\n",
      " 2   CLNT_AGE     117643 non-null  int64 \n",
      " 3   PD_BUY_TOT   117643 non-null  int64 \n",
      " 4   BUY_COUNT    117643 non-null  int64 \n",
      " 5   CUS_SEG      117643 non-null  int64 \n",
      " 6   SEARCH_CNT   117643 non-null  int64 \n",
      "dtypes: int64(6), object(1)\n",
      "memory usage: 7.2+ MB\n"
     ]
    }
   ],
   "source": [
    "dataset3.info()"
   ]
  },
  {
   "cell_type": "code",
   "execution_count": 113,
   "metadata": {
    "scrolled": true
   },
   "outputs": [
    {
     "name": "stdout",
     "output_type": "stream",
     "text": [
      "<class 'pandas.core.frame.DataFrame'>\n",
      "Int64Index: 44079 entries, 10 to 375856\n",
      "Data columns (total 7 columns):\n",
      " #   Column       Non-Null Count  Dtype \n",
      "---  ------       --------------  ----- \n",
      " 0   CLNT_ID      44079 non-null  int64 \n",
      " 1   CLNT_GENDER  44079 non-null  object\n",
      " 2   CLNT_AGE     44079 non-null  int64 \n",
      " 3   PD_BUY_TOT   44079 non-null  int64 \n",
      " 4   BUY_COUNT    44079 non-null  int64 \n",
      " 5   CUS_SEG      44079 non-null  int64 \n",
      " 6   SEARCH_CNT   44079 non-null  int64 \n",
      "dtypes: int64(6), object(1)\n",
      "memory usage: 2.7+ MB\n"
     ]
    }
   ],
   "source": [
    "dataset4.info()"
   ]
  },
  {
   "cell_type": "markdown",
   "metadata": {},
   "source": [
    "## 고객 그룹 분포 시각화 (Customer + Seg)"
   ]
  },
  {
   "cell_type": "code",
   "execution_count": 138,
   "metadata": {
    "scrolled": true
   },
   "outputs": [
    {
     "data": {
      "image/png": "[encoded data removed]",
      "text/plain": [
       "<Figure size 432x288 with 1 Axes>"
      ]
     },
     "metadata": {
      "image/png": {
       "height": 280,
       "width": 406
      },
      "needs_background": "light"
     },
     "output_type": "display_data"
    }
   ],
   "source": [
    "frame, grid = plt.subplots()\n",
    "grid = sns.countplot('CUS_SEG', data=df_segs)\n",
    "grid.set_title(\"고객 분포도\")\n",
    "grid.set_xlabel(\"고객 그룹\")\n",
    "grid.set_ylabel(\"정도\")\n",
    "\n",
    "plt.show()"
   ]
  },
  {
   "cell_type": "markdown",
   "metadata": {},
   "source": [
    "## 고객 그룹별 검색량"
   ]
  },
  {
   "cell_type": "code",
   "execution_count": 115,
   "metadata": {},
   "outputs": [
    {
     "data": {
      "image/png": "[encoded data removed]",
      "text/plain": [
       "<Figure size 432x288 with 1 Axes>"
      ]
     },
     "metadata": {
      "image/png": {
       "height": 280,
       "width": 391
      },
      "needs_background": "light"
     },
     "output_type": "display_data"
    }
   ],
   "source": [
    "frame, grid = plt.subplots()\n",
    "grid = sns.barplot(x = 'CUS_SEG', y = 'SEARCH_CNT', data=df_search_seg)\n",
    "grid.set_title('고객 그룹별 검색량')\n",
    "plt.show()"
   ]
  },
  {
   "cell_type": "markdown",
   "metadata": {},
   "source": [
    "## 고객의 연령, 성별에 따른 검색량 차이보기"
   ]
  },
  {
   "cell_type": "code",
   "execution_count": 140,
   "metadata": {
    "scrolled": true
   },
   "outputs": [
    {
     "data": {
      "image/png": "[encoded data removed]",
      "text/plain": [
       "<Figure size 432x288 with 1 Axes>"
      ]
     },
     "metadata": {
      "image/png": {
       "height": 264,
       "width": 382
      },
      "needs_background": "light"
     },
     "output_type": "display_data"
    }
   ],
   "source": [
    "grid = sns.lineplot(x=\"CLNT_AGE\", y=\"SEARCH_CNT\", \n",
    "                    hue=\"CLNT_GENDER\", data=df_search_seg)"
   ]
  },
  {
   "cell_type": "code",
   "execution_count": 135,
   "metadata": {},
   "outputs": [
    {
     "data": {
      "image/png": "[encoded data removed]",
      "text/plain": [
       "<Figure size 437.125x360 with 1 Axes>"
      ]
     },
     "metadata": {
      "image/png": {
       "height": 354,
       "width": 427
      },
      "needs_background": "light"
     },
     "output_type": "display_data"
    }
   ],
   "source": [
    "gird = sns.catplot(x=\"CLNT_AGE\", y=\"SEARCH_CNT\", \n",
    "                   hue=\"CLNT_GENDER\", data=df_search_seg, \n",
    "                   kind=\"bar\", palette=\"muted\")"
   ]
  },
  {
   "cell_type": "code",
   "execution_count": null,
   "metadata": {},
   "outputs": [],
   "source": []
  }
 ],
 "metadata": {
  "kernelspec": {
   "display_name": "Python 3",
   "language": "python",
   "name": "python3"
  },
  "language_info": {
   "codemirror_mode": {
    "name": "ipython",
    "version": 3
   },
   "file_extension": ".py",
   "mimetype": "text/x-python",
   "name": "python",
   "nbconvert_exporter": "python",
   "pygments_lexer": "ipython3",
   "version": "3.8.2"
  }
 },
 "nbformat": 4,
 "nbformat_minor": 4
}
